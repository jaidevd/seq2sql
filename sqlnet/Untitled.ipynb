{
 "cells": [
  {
   "cell_type": "code",
   "execution_count": 1,
   "metadata": {},
   "outputs": [],
   "source": [
    "from default_args import Args\n",
    "from sqlnet.utils import best_model_name\n",
    "import torch\n",
    "from sqlnet.utils import (\n",
    "    load_dataset,\n",
    "    load_word_emb,\n",
    "    best_model_name,\n",
    "    epoch_acc,\n",
    "    epoch_exec_acc,\n",
    "    epoch_train,\n",
    "    epoch_reinforce_train,\n",
    ")\n",
    "from sqlnet.model.seq2sql import Seq2SQL\n",
    "from sqlnet.model.sqlnet import SQLNet\n",
    "import datetime\n",
    "import argparse\n",
    "import spacy\n",
    "import numpy as np"
   ]
  },
  {
   "cell_type": "code",
   "execution_count": 3,
   "metadata": {},
   "outputs": [
    {
     "name": "stdout",
     "output_type": "stream",
     "text": [
      "Loading from original dataset\n",
      "Loading data from data/train_tok.jsonl\n",
      "Loading data from data/train_tok.tables.jsonl\n",
      "Loading data from data/dev_tok.jsonl\n",
      "Loading data from data/dev_tok.tables.jsonl\n",
      "Loading data from data/test_tok.jsonl\n",
      "Loading data from data/test_tok.tables.jsonl\n",
      "Loading word embedding from glove/glove.42B.300d.txt\n"
     ]
    }
   ],
   "source": [
    "args = Args(ca=True)\n",
    "USE_SMALL = False\n",
    "GPU = True\n",
    "BATCH_SIZE = 64\n",
    "TRAIN_ENTRY = (True, True, True)  # (AGG, SEL, COND)\n",
    "TRAIN_AGG, TRAIN_SEL, TRAIN_COND = TRAIN_ENTRY\n",
    "learning_rate = 1e-4 if args.rl else 1e-3\n",
    "\n",
    "sql_data, table_data, val_sql_data, val_table_data, test_sql_data, \\\n",
    "    test_table_data, TRAIN_DB, DEV_DB, TEST_DB = load_dataset(\n",
    "        args.dataset, use_small=USE_SMALL\n",
    "    )\n",
    "\n",
    "word_emb = load_word_emb(\n",
    "    \"glove/glove.%dB.%dd.txt\" % (42, 300),\n",
    "    load_used=args.train_emb,\n",
    "    use_small=USE_SMALL,\n",
    ")"
   ]
  },
  {
   "cell_type": "code",
   "execution_count": 16,
   "metadata": {},
   "outputs": [
    {
     "name": "stdout",
     "output_type": "stream",
     "text": [
      "Using fixed embedding\n",
      "Using column attention on aggregator predicting\n",
      "Using column attention on selection predicting\n",
      "Using column attention on where predicting\n"
     ]
    }
   ],
   "source": [
    "model = SQLNet(\n",
    "            word_emb,\n",
    "            N_word=300,\n",
    "            use_ca=args.ca,\n",
    "            gpu=GPU,\n",
    "            trainable_emb=args.train_emb,\n",
    "        )"
   ]
  },
  {
   "cell_type": "code",
   "execution_count": 17,
   "metadata": {},
   "outputs": [],
   "source": [
    "agg_m, sel_m, cond_m = best_model_name(args, for_load=True)"
   ]
  },
  {
   "cell_type": "code",
   "execution_count": 18,
   "metadata": {},
   "outputs": [
    {
     "data": {
      "text/plain": [
       "IncompatibleKeys(missing_keys=[], unexpected_keys=[])"
      ]
     },
     "execution_count": 18,
     "metadata": {},
     "output_type": "execute_result"
    }
   ],
   "source": [
    "model.agg_pred.load_state_dict(torch.load(agg_m))\n",
    "model.sel_pred.load_state_dict(torch.load(sel_m))\n",
    "model.cond_pred.load_state_dict(torch.load(cond_m))\n",
    "_ = model.eval()"
   ]
  },
  {
   "cell_type": "code",
   "execution_count": 74,
   "metadata": {},
   "outputs": [],
   "source": [
    "\n",
    "nlp = spacy.load('en_core_web_sm')\n",
    "\n",
    "def process_query(q):\n",
    "    tokens = [c.text.lower() for c in nlp(q)]\n",
    "    zv = np.zeros(model.embed_layer.N_word, dtype=np.float32)\n",
    "    X = np.zeros((len(tokens) + 2, model.embed_layer.N_word), dtype=np.float32)\n",
    "    for i, t in enumerate(tokens):\n",
    "        X[i + 1] = model.embed_layer.word_emb.get(t, zv.copy())\n",
    "    var_inp = torch.from_numpy(X)\n",
    "    if model.gpu:\n",
    "        var_inp = var_inp.cuda()\n",
    "    return torch.autograd.Variable(var_inp)\n",
    "\n",
    "    \n",
    "text = \"What position does the player who played for butler cc (ks) play?\""
   ]
  },
  {
   "cell_type": "code",
   "execution_count": 75,
   "metadata": {},
   "outputs": [],
   "source": [
    "q = process_query(text)"
   ]
  },
  {
   "cell_type": "code",
   "execution_count": 85,
   "metadata": {},
   "outputs": [
    {
     "ename": "TypeError",
     "evalue": "iteration over a 0-d array",
     "output_type": "error",
     "traceback": [
      "\u001b[0;31m---------------------------------------------------------------------------\u001b[0m",
      "\u001b[0;31mTypeError\u001b[0m                                 Traceback (most recent call last)",
      "\u001b[0;32m<ipython-input-85-a9a246d4e8a7>\u001b[0m in \u001b[0;36m<module>\u001b[0;34m\u001b[0m\n\u001b[0;32m----> 1\u001b[0;31m \u001b[0mmodel\u001b[0m\u001b[0;34m.\u001b[0m\u001b[0magg_pred\u001b[0m\u001b[0;34m(\u001b[0m\u001b[0mq\u001b[0m\u001b[0;34m,\u001b[0m \u001b[0mnp\u001b[0m\u001b[0;34m.\u001b[0m\u001b[0marray\u001b[0m\u001b[0;34m(\u001b[0m\u001b[0;36m17\u001b[0m\u001b[0;34m)\u001b[0m\u001b[0;34m)\u001b[0m\u001b[0;34m\u001b[0m\u001b[0;34m\u001b[0m\u001b[0m\n\u001b[0m",
      "\u001b[0;32m~/anaconda3/lib/python3.6/site-packages/torch/nn/modules/module.py\u001b[0m in \u001b[0;36m__call__\u001b[0;34m(self, *input, **kwargs)\u001b[0m\n\u001b[1;32m    491\u001b[0m             \u001b[0mresult\u001b[0m \u001b[0;34m=\u001b[0m \u001b[0mself\u001b[0m\u001b[0;34m.\u001b[0m\u001b[0m_slow_forward\u001b[0m\u001b[0;34m(\u001b[0m\u001b[0;34m*\u001b[0m\u001b[0minput\u001b[0m\u001b[0;34m,\u001b[0m \u001b[0;34m**\u001b[0m\u001b[0mkwargs\u001b[0m\u001b[0;34m)\u001b[0m\u001b[0;34m\u001b[0m\u001b[0;34m\u001b[0m\u001b[0m\n\u001b[1;32m    492\u001b[0m         \u001b[0;32melse\u001b[0m\u001b[0;34m:\u001b[0m\u001b[0;34m\u001b[0m\u001b[0;34m\u001b[0m\u001b[0m\n\u001b[0;32m--> 493\u001b[0;31m             \u001b[0mresult\u001b[0m \u001b[0;34m=\u001b[0m \u001b[0mself\u001b[0m\u001b[0;34m.\u001b[0m\u001b[0mforward\u001b[0m\u001b[0;34m(\u001b[0m\u001b[0;34m*\u001b[0m\u001b[0minput\u001b[0m\u001b[0;34m,\u001b[0m \u001b[0;34m**\u001b[0m\u001b[0mkwargs\u001b[0m\u001b[0;34m)\u001b[0m\u001b[0;34m\u001b[0m\u001b[0;34m\u001b[0m\u001b[0m\n\u001b[0m\u001b[1;32m    494\u001b[0m         \u001b[0;32mfor\u001b[0m \u001b[0mhook\u001b[0m \u001b[0;32min\u001b[0m \u001b[0mself\u001b[0m\u001b[0;34m.\u001b[0m\u001b[0m_forward_hooks\u001b[0m\u001b[0;34m.\u001b[0m\u001b[0mvalues\u001b[0m\u001b[0;34m(\u001b[0m\u001b[0;34m)\u001b[0m\u001b[0;34m:\u001b[0m\u001b[0;34m\u001b[0m\u001b[0;34m\u001b[0m\u001b[0m\n\u001b[1;32m    495\u001b[0m             \u001b[0mhook_result\u001b[0m \u001b[0;34m=\u001b[0m \u001b[0mhook\u001b[0m\u001b[0;34m(\u001b[0m\u001b[0mself\u001b[0m\u001b[0;34m,\u001b[0m \u001b[0minput\u001b[0m\u001b[0;34m,\u001b[0m \u001b[0mresult\u001b[0m\u001b[0;34m)\u001b[0m\u001b[0;34m\u001b[0m\u001b[0;34m\u001b[0m\u001b[0m\n",
      "\u001b[0;32m~/src/ml_projects/seq2sql/sqlnet/sqlnet/model/modules/aggregator_predict.py\u001b[0m in \u001b[0;36mforward\u001b[0;34m(self, x_emb_var, x_len, col_inp_var, col_name_len, col_len, col_num, gt_sel)\u001b[0m\n\u001b[1;32m     45\u001b[0m     ):\n\u001b[1;32m     46\u001b[0m         \u001b[0mB\u001b[0m \u001b[0;34m=\u001b[0m \u001b[0mlen\u001b[0m\u001b[0;34m(\u001b[0m\u001b[0mx_emb_var\u001b[0m\u001b[0;34m)\u001b[0m  \u001b[0;31m# NOQA: F841\u001b[0m\u001b[0;34m\u001b[0m\u001b[0;34m\u001b[0m\u001b[0m\n\u001b[0;32m---> 47\u001b[0;31m         \u001b[0mmax_x_len\u001b[0m \u001b[0;34m=\u001b[0m \u001b[0mmax\u001b[0m\u001b[0;34m(\u001b[0m\u001b[0mx_len\u001b[0m\u001b[0;34m)\u001b[0m\u001b[0;34m\u001b[0m\u001b[0;34m\u001b[0m\u001b[0m\n\u001b[0m\u001b[1;32m     48\u001b[0m \u001b[0;34m\u001b[0m\u001b[0m\n\u001b[1;32m     49\u001b[0m         \u001b[0mh_enc\u001b[0m\u001b[0;34m,\u001b[0m \u001b[0m_\u001b[0m \u001b[0;34m=\u001b[0m \u001b[0mrun_lstm\u001b[0m\u001b[0;34m(\u001b[0m\u001b[0mself\u001b[0m\u001b[0;34m.\u001b[0m\u001b[0magg_lstm\u001b[0m\u001b[0;34m,\u001b[0m \u001b[0mx_emb_var\u001b[0m\u001b[0;34m,\u001b[0m \u001b[0mx_len\u001b[0m\u001b[0;34m)\u001b[0m\u001b[0;34m\u001b[0m\u001b[0;34m\u001b[0m\u001b[0m\n",
      "\u001b[0;31mTypeError\u001b[0m: iteration over a 0-d array"
     ]
    }
   ],
   "source": [
    "model.agg_pred(q, np.array(17))"
   ]
  },
  {
   "cell_type": "code",
   "execution_count": 78,
   "metadata": {},
   "outputs": [
    {
     "data": {
      "text/plain": [
       "['<UNK>', '<END>', 'WHERE', 'AND', 'EQL', 'GT', 'LT', '<BEG>']"
      ]
     },
     "execution_count": 78,
     "metadata": {},
     "output_type": "execute_result"
    }
   ],
   "source": [
    "model.embed_layer.SQL_TOK"
   ]
  },
  {
   "cell_type": "code",
   "execution_count": 79,
   "metadata": {},
   "outputs": [
    {
     "data": {
      "text/plain": [
       "True"
      ]
     },
     "execution_count": 79,
     "metadata": {},
     "output_type": "execute_result"
    }
   ],
   "source": [
    "q.is_cuda"
   ]
  },
  {
   "cell_type": "code",
   "execution_count": null,
   "metadata": {},
   "outputs": [],
   "source": []
  }
 ],
 "metadata": {
  "kernelspec": {
   "display_name": "Python 3",
   "language": "python",
   "name": "python3"
  },
  "language_info": {
   "codemirror_mode": {
    "name": "ipython",
    "version": 3
   },
   "file_extension": ".py",
   "mimetype": "text/x-python",
   "name": "python",
   "nbconvert_exporter": "python",
   "pygments_lexer": "ipython3",
   "version": "3.6.8"
  }
 },
 "nbformat": 4,
 "nbformat_minor": 4
}
